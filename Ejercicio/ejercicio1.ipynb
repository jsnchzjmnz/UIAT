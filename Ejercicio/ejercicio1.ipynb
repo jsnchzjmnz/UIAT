{
 "cells": [
  {
   "cell_type": "markdown",
   "id": "391351cd",
   "metadata": {},
   "source": [
    "# 1\n",
    "\n",
    "* Importe sql alchemi con 'sa' como alias\n",
    "* Importe pandas con pd como alias\n",
    "* Importe datetime de la librería datetime"
   ]
  },
  {
   "cell_type": "code",
   "execution_count": null,
   "id": "edd90157",
   "metadata": {},
   "outputs": [],
   "source": []
  },
  {
   "cell_type": "markdown",
   "id": "27b1bcc9",
   "metadata": {},
   "source": [
    "# 2\n",
    "\n",
    "* Cree una variable llamada engine con la IP asignada al servicio de CrateDB\n",
    "    * use la funcion create_engine de sa\n",
    "    * la forma del URI es crate://crate@IP:PORT\n",
    "* Cree una variable con\n",
    "    * Use la función connect de engine"
   ]
  },
  {
   "cell_type": "code",
   "execution_count": null,
   "id": "b3154bcd",
   "metadata": {},
   "outputs": [],
   "source": []
  },
  {
   "cell_type": "markdown",
   "id": "215841a0",
   "metadata": {},
   "source": [
    "# 3\n",
    "* Cree una variable path con el path donde va a guardar el CSV\n",
    "* Cree una variable CA_SCHEMA con el nombre del esquema a usar en la BD"
   ]
  },
  {
   "cell_type": "code",
   "execution_count": null,
   "id": "018ba977",
   "metadata": {},
   "outputs": [],
   "source": []
  },
  {
   "cell_type": "markdown",
   "id": "ea7a1cef",
   "metadata": {},
   "source": [
    "# 4\n",
    "* Descargue el siguiente archivo de excel\n",
    "https://gee.bccr.fi.cr/indicadoreseconomicos/cuadros/frmvercatcuadro.aspx?idioma=2&codcuadro=%20400\n",
    "\n",
    "* Abra el archivo y elimine las filas que no son necesarias, coloque un nombre a la columna de fechas y guarde como CSV\n",
    "* Cree un dataframe con el nombre df utilizand la función read_csv de pd\n",
    "    * arme la ruta donde se encuentra el archivo considerando la variable path creada anteriormente\n",
    "* utilice la función head() para mostrar parte del contenido de df"
   ]
  },
  {
   "cell_type": "code",
   "execution_count": null,
   "id": "8ef9e1f4",
   "metadata": {},
   "outputs": [],
   "source": []
  },
  {
   "cell_type": "markdown",
   "id": "aec02e6e",
   "metadata": {},
   "source": [
    "# 5\n",
    "* Modifique la columna de fecha usando la función to_datetime\n",
    "    * use como parámetro de datos la columna de fecha del dataframe\n",
    "    * Use como parámetro de formato, el adecuado según https://docs.python.org/3/library/datetime.html#strftime-and-strptime-behavior\n",
    "    * utilice como parámetro errors='coerce'\n",
    "* muestre una parte del dataframe"
   ]
  },
  {
   "cell_type": "code",
   "execution_count": null,
   "id": "7fd1b814",
   "metadata": {},
   "outputs": [],
   "source": []
  },
  {
   "cell_type": "markdown",
   "id": "683b9c3f",
   "metadata": {},
   "source": [
    "# 6\n",
    "* Use la función to_sql para guardar el dataframe en CrateDB\n",
    "    * use el parámetro name para indicar el nombre de la tabla a crear. Use el nombre tipo_cambio\n",
    "    * asigne al parámetro con la variable conn\n",
    "    * asigne al parámetro schema la variable CA_SCHEMA\n",
    "    * utilice el parámetro if_exists='replace'\n",
    "    * utilice el parámetro index=False"
   ]
  },
  {
   "cell_type": "code",
   "execution_count": null,
   "id": "0dbb2134",
   "metadata": {},
   "outputs": [],
   "source": []
  },
  {
   "cell_type": "markdown",
   "id": "5a6dd1a1",
   "metadata": {},
   "source": [
    "# 7\n",
    "* Cree una variable sql con un script para consultar el contenido de la tabla creada\n",
    "* Cree un nuevo dataframe a partir de una consulta a la BD usando la función read_sql_query de pd\n",
    "    * use la variable sql como parámetro\n",
    "    * use con=conn como parámetro\n",
    "* Muestre una parte del nuevo dataframe"
   ]
  },
  {
   "cell_type": "code",
   "execution_count": null,
   "id": "ad52df62",
   "metadata": {},
   "outputs": [],
   "source": []
  },
  {
   "cell_type": "markdown",
   "id": "d7150bb7",
   "metadata": {},
   "source": [
    "# 8 \n",
    "* Cree una nueva columna obteniendo la diferencia entre venta y compra\n",
    "* Muestre una parte del dataframe resultante"
   ]
  },
  {
   "cell_type": "code",
   "execution_count": null,
   "id": "c80e6707",
   "metadata": {},
   "outputs": [],
   "source": []
  },
  {
   "cell_type": "markdown",
   "id": "3b07e5e9",
   "metadata": {},
   "source": [
    "# 9\n",
    "* Guarde el nuevo dataframe en una nueva tabla llamada diferencia_tipo_cambio.\n",
    "    * Tome como ejemplo el paso 6 y realice los ajustes necesarios"
   ]
  },
  {
   "cell_type": "code",
   "execution_count": null,
   "id": "8e272736",
   "metadata": {},
   "outputs": [],
   "source": []
  },
  {
   "cell_type": "markdown",
   "id": "902d51b2",
   "metadata": {},
   "source": [
    "# 10\n",
    "* Cierre la conexión con CrateDB usando la función close de conn"
   ]
  },
  {
   "cell_type": "code",
   "execution_count": null,
   "id": "378b9ffe",
   "metadata": {},
   "outputs": [],
   "source": []
  },
  {
   "cell_type": "markdown",
   "id": "70b56b72",
   "metadata": {},
   "source": [
    "# 11\n",
    "* Conecte CrateDB a Superset\n",
    "* Cree un nuevo dataset usando la tabla diferencia_tipo_cambio\n",
    "* Cree un nuevo dashboard\n",
    "* Cree 3 charts\n",
    "    * Compra\n",
    "    * Venta\n",
    "    * Diferencia"
   ]
  },
  {
   "cell_type": "code",
   "execution_count": null,
   "id": "74ec1480",
   "metadata": {},
   "outputs": [],
   "source": []
  }
 ],
 "metadata": {
  "kernelspec": {
   "display_name": "Python 3",
   "language": "python",
   "name": "python3"
  },
  "language_info": {
   "codemirror_mode": {
    "name": "ipython",
    "version": 3
   },
   "file_extension": ".py",
   "mimetype": "text/x-python",
   "name": "python",
   "nbconvert_exporter": "python",
   "pygments_lexer": "ipython3",
   "version": "3.8.8"
  }
 },
 "nbformat": 4,
 "nbformat_minor": 5
}
